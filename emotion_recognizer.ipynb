{
 "cells": [
  {
   "cell_type": "markdown",
   "id": "e0324c52",
   "metadata": {},
   "source": [
    "                  Audio emotion Recognition \n",
    "\n",
    "                         15 Jul 2025\n",
    "\n",
    "                    shivshakti chaudhary \n",
    "\n",
    "I am going to build a speech emotion detection classifier. \n",
    "\n",
    "Speech Emotion detection (SER) is an act of attempting to recognize female emotion and affective states from speech. \n",
    "\n",
    "I plan to create a speech and emotion recognition of harsh words, screaming, crying, stress signals and asking for help signs. so, my model will predict if the person is showing such signs. This is a prototype model and I think i will not get enough time to tuning of hyperparameters. It need to be done for better model accuracy and classfication. "
   ]
  },
  {
   "cell_type": "markdown",
   "id": "7d319b20",
   "metadata": {},
   "source": [
    "# Importing Libraries "
   ]
  },
  {
   "cell_type": "code",
   "execution_count": null,
   "id": "653dbe28",
   "metadata": {},
   "outputs": [],
   "source": [
    "import pandas as pd \n",
    "import numpy as np\n",
    "\n",
    "# for creating paths \n",
    "import os \n",
    "import sys\n",
    "\n",
    "# librosa is python library for analyzing audio and music. \n",
    "import librosa\n",
    "import librosa.display\n",
    "import seaborn as sns\n",
    "import matplotlib.pylab as plt\n",
    "\n",
    "from sklearn.preprocessing import StandardScaler, OneHotEncoder, LabelEncoder\n",
    "from sklearn.metrics import confusion_matrix, classification_report\n",
    "from sklearn.model_selection import train_test_split\n",
    "\n",
    "# to play the audio files\n",
    "from IPython.display import Audio \n",
    "\n",
    "import keras \n",
    "# it autommatically lowers learning rate if models stop improving \n",
    "from keras.callbacks import ReduceLROnPlateau\n",
    "from keras.models import Sequential \n",
    "from keras.layers import Dense, Conv1D, MaxPooling1D, Flatten, Dropout, BatchNormalization\n",
    "from keras.callbacks import ModelCheckpoint\n",
    "#ignoring. warningns\n",
    "import warnings\n",
    "if not sys.warnoptions:\n",
    "    warnings.simplefilter(\"ignore\")\n",
    "warnings.filterwarnings('ignore', category=DeprecationWarning)"
   ]
  },
  {
   "cell_type": "markdown",
   "id": "e10b674d",
   "metadata": {},
   "source": [
    "# Data Preprocessing and Preparation"
   ]
  },
  {
   "cell_type": "code",
   "execution_count": null,
   "id": "fbcbf1c0",
   "metadata": {},
   "outputs": [],
   "source": []
  },
  {
   "cell_type": "code",
   "execution_count": null,
   "id": "60850e40",
   "metadata": {},
   "outputs": [],
   "source": []
  },
  {
   "cell_type": "code",
   "execution_count": null,
   "id": "9ecfcedc",
   "metadata": {},
   "outputs": [],
   "source": []
  },
  {
   "cell_type": "code",
   "execution_count": null,
   "id": "5f8c8f6c",
   "metadata": {},
   "outputs": [],
   "source": []
  }
 ],
 "metadata": {
  "kernelspec": {
   "display_name": "base",
   "language": "python",
   "name": "python3"
  },
  "language_info": {
   "codemirror_mode": {
    "name": "ipython",
    "version": 3
   },
   "file_extension": ".py",
   "mimetype": "text/x-python",
   "name": "python",
   "nbconvert_exporter": "python",
   "pygments_lexer": "ipython3",
   "version": "3.12.7"
  }
 },
 "nbformat": 4,
 "nbformat_minor": 5
}
